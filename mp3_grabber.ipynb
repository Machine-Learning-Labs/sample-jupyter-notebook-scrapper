{
 "cells": [
  {
   "cell_type": "code",
   "execution_count": null,
   "id": "3a9c4fce",
   "metadata": {},
   "outputs": [],
   "source": [
    "!pip install requests==2.26.0 beautifulsoup4==4.8.2"
   ]
  },
  {
   "cell_type": "code",
   "execution_count": 1,
   "id": "e5430970",
   "metadata": {},
   "outputs": [],
   "source": [
    "import os\n",
    "import requests\n",
    "from bs4 import BeautifulSoup"
   ]
  },
  {
   "cell_type": "code",
   "execution_count": 2,
   "id": "1ece2f45",
   "metadata": {},
   "outputs": [],
   "source": [
    "from urllib.parse import urlparse, urljoin"
   ]
  },
  {
   "cell_type": "code",
   "execution_count": 3,
   "id": "3933b67b",
   "metadata": {},
   "outputs": [],
   "source": [
    "input_url = [\n",
    "    {\n",
    "        \"url\":f\"http://language.courseware/les/<%page%>/\",\n",
    "        \"initial\":80,\n",
    "        \"ending\":84,\n",
    "        \"folder_name\": \"lesson_1\"\n",
    "    }\n",
    "]"
   ]
  },
  {
   "cell_type": "code",
   "execution_count": 4,
   "id": "42fcd935",
   "metadata": {},
   "outputs": [],
   "source": [
    "output_url = {}"
   ]
  },
  {
   "cell_type": "markdown",
   "id": "f789c396",
   "metadata": {},
   "source": [
    "## Prepare all url to download"
   ]
  },
  {
   "cell_type": "code",
   "execution_count": 5,
   "id": "f90a190b",
   "metadata": {},
   "outputs": [],
   "source": [
    "for lesson in input_url:\n",
    "    \n",
    "    url=lesson.get('url')\n",
    "    start=lesson.get('initial')\n",
    "    end=lesson.get('ending')\n",
    "    folder=lesson.get('folder_name')\n",
    "    \n",
    "    elements = range(start, end)\n",
    "    output_url[folder]=[]\n",
    "    \n",
    "    for element in elements:\n",
    "        url_fulfilled = url.replace('<%page%>', str(element))\n",
    "        output_url[folder].append(url_fulfilled)\n"
   ]
  },
  {
   "cell_type": "code",
   "execution_count": 6,
   "id": "c3e81379",
   "metadata": {},
   "outputs": [
    {
     "name": "stdout",
     "output_type": "stream",
     "text": [
      "{'lesson_1': ['http://l.zlat.spb.ru/les/80/', 'http://l.zlat.spb.ru/les/81/', 'http://l.zlat.spb.ru/les/82/', 'http://l.zlat.spb.ru/les/83/']}\n"
     ]
    }
   ],
   "source": [
    "print(output_url)"
   ]
  },
  {
   "cell_type": "code",
   "execution_count": 22,
   "id": "2dd13f85",
   "metadata": {},
   "outputs": [
    {
     "name": "stdout",
     "output_type": "stream",
     "text": [
      ">>> Preparing to download: lesson_1\n",
      "lesson_1_les_80_.mp3 saved\n",
      "lesson_1_les_81_.mp3 saved\n",
      "lesson_1_les_82_.mp3 saved\n",
      "lesson_1_les_83_.mp3 saved\n"
     ]
    }
   ],
   "source": [
    "for folder in output_url:\n",
    "    \n",
    "    print(f'>>> Preparing to download: {folder}')\n",
    "\n",
    "    for url_specific in output_url[folder]:\n",
    "\n",
    "        # Prepare the url base\n",
    "        uri_components = urlparse(url_specific)\n",
    "\n",
    "        # Download the page\n",
    "        html_doc = requests.get(url_specific)\n",
    "        soup = BeautifulSoup(html_doc.content, 'html.parser')\n",
    "        candidate_links = soup.find_all('a', class_=\"adownload\")\n",
    "        mp3_link = candidate_links.pop().get('href')\n",
    "\n",
    "        # Download the mp3\n",
    "        #mp3_uri = f'{uri_components.scheme}://{uri_components.netloc}/{mp3_link}'\n",
    "        mp3_uri = f'{uri_components.scheme}://{uri_components.netloc}{mp3_link}'\n",
    "        mp3_file = requests.get(mp3_uri, allow_redirects=True)\n",
    "        filename = f'{folder}{uri_components.path}.mp3'.replace('/','_')\n",
    "        open(filename, 'wb').write(mp3_file.content)\n",
    "        \n",
    "        print(f'{filename} saved')"
   ]
  },
  {
   "cell_type": "code",
   "execution_count": null,
   "id": "0d7db62b",
   "metadata": {},
   "outputs": [],
   "source": []
  }
 ],
 "metadata": {
  "kernelspec": {
   "display_name": "Python 3 (ipykernel)",
   "language": "python",
   "name": "python3"
  },
  "language_info": {
   "codemirror_mode": {
    "name": "ipython",
    "version": 3
   },
   "file_extension": ".py",
   "mimetype": "text/x-python",
   "name": "python",
   "nbconvert_exporter": "python",
   "pygments_lexer": "ipython3",
   "version": "3.7.11"
  }
 },
 "nbformat": 4,
 "nbformat_minor": 5
}
